{
 "cells": [
  {
   "cell_type": "markdown",
   "metadata": {},
   "source": [
    "## Welcome to the Second Lab - Week 1, Day 3\n",
    "\n",
    "Today we will work with lots of models! This is a way to get comfortable with APIs."
   ]
  },
  {
   "cell_type": "markdown",
   "metadata": {},
   "source": [
    "<table style=\"margin: 0; text-align: left; width:100%\">\n",
    "    <tr>\n",
    "        <td style=\"width: 150px; height: 150px; vertical-align: middle;\">\n",
    "            <img src=\"../assets/stop.png\" width=\"150\" height=\"150\" style=\"display: block;\" />\n",
    "        </td>\n",
    "        <td>\n",
    "            <h2 style=\"color:#ff7800;\">Important point - please read</h2>\n",
    "            <span style=\"color:#ff7800;\">The way I collaborate with you may be different to other courses you've taken. I prefer not to type code while you watch. Rather, I execute Jupyter Labs, like this, and give you an intuition for what's going on. My suggestion is that you carefully execute this yourself, <b>after</b> watching the lecture. Add print statements to understand what's going on, and then come up with your own variations.<br/><br/>If you have time, I'd love it if you submit a PR for changes in the community_contributions folder - instructions in the resources. Also, if you have a Github account, use this to showcase your variations. Not only is this essential practice, but it demonstrates your skills to others, including perhaps future clients or employers...\n",
    "            </span>\n",
    "        </td>\n",
    "    </tr>\n",
    "</table>"
   ]
  },
  {
   "cell_type": "code",
   "execution_count": 1,
   "metadata": {},
   "outputs": [],
   "source": [
    "# Start with imports - ask ChatGPT to explain any package that you don't know\n",
    "\n",
    "import os\n",
    "import json\n",
    "from dotenv import load_dotenv\n",
    "from openai import OpenAI\n",
    "from anthropic import Anthropic\n",
    "from IPython.display import Markdown, display"
   ]
  },
  {
   "cell_type": "code",
   "execution_count": 2,
   "metadata": {},
   "outputs": [
    {
     "data": {
      "text/plain": [
       "True"
      ]
     },
     "execution_count": 2,
     "metadata": {},
     "output_type": "execute_result"
    }
   ],
   "source": [
    "# Always remember to do this!\n",
    "load_dotenv(override=True)"
   ]
  },
  {
   "cell_type": "code",
   "execution_count": 3,
   "metadata": {},
   "outputs": [
    {
     "name": "stdout",
     "output_type": "stream",
     "text": [
      "OpenAI API Key not set\n",
      "Anthropic API Key not set (and this is optional)\n",
      "Google API Key exists and begins AI\n",
      "DeepSeek API Key not set (and this is optional)\n",
      "Groq API Key not set (and this is optional)\n"
     ]
    }
   ],
   "source": [
    "# Print the key prefixes to help with any debugging\n",
    "\n",
    "openai_api_key = os.getenv('OPENAI_API_KEY')\n",
    "anthropic_api_key = os.getenv('ANTHROPIC_API_KEY')\n",
    "google_api_key = os.getenv('GOOGLE_API_KEY')\n",
    "deepseek_api_key = os.getenv('DEEPSEEK_API_KEY')\n",
    "groq_api_key = os.getenv('GROQ_API_KEY')\n",
    "\n",
    "if openai_api_key:\n",
    "    print(f\"OpenAI API Key exists and begins {openai_api_key[:8]}\")\n",
    "else:\n",
    "    print(\"OpenAI API Key not set\")\n",
    "    \n",
    "if anthropic_api_key:\n",
    "    print(f\"Anthropic API Key exists and begins {anthropic_api_key[:7]}\")\n",
    "else:\n",
    "    print(\"Anthropic API Key not set (and this is optional)\")\n",
    "\n",
    "if google_api_key:\n",
    "    print(f\"Google API Key exists and begins {google_api_key[:2]}\")\n",
    "else:\n",
    "    print(\"Google API Key not set (and this is optional)\")\n",
    "\n",
    "if deepseek_api_key:\n",
    "    print(f\"DeepSeek API Key exists and begins {deepseek_api_key[:3]}\")\n",
    "else:\n",
    "    print(\"DeepSeek API Key not set (and this is optional)\")\n",
    "\n",
    "if groq_api_key:\n",
    "    print(f\"Groq API Key exists and begins {groq_api_key[:4]}\")\n",
    "else:\n",
    "    print(\"Groq API Key not set (and this is optional)\")"
   ]
  },
  {
   "cell_type": "code",
   "execution_count": 4,
   "metadata": {},
   "outputs": [],
   "source": [
    "request = \"Please come up with a challenging, nuanced question that I can ask a number of LLMs to evaluate their intelligence. \"\n",
    "request += \"Answer only with the question, no explanation.\"\n",
    "messages = [{\"role\": \"user\", \"content\": request}]"
   ]
  },
  {
   "cell_type": "code",
   "execution_count": 5,
   "metadata": {},
   "outputs": [
    {
     "data": {
      "text/plain": [
       "[{'role': 'user',\n",
       "  'content': 'Please come up with a challenging, nuanced question that I can ask a number of LLMs to evaluate their intelligence. Answer only with the question, no explanation.'}]"
      ]
     },
     "execution_count": 5,
     "metadata": {},
     "output_type": "execute_result"
    }
   ],
   "source": [
    "messages"
   ]
  },
  {
   "cell_type": "code",
   "execution_count": 6,
   "metadata": {},
   "outputs": [],
   "source": [
    "# openai = OpenAI()\n",
    "# response = openai.chat.completions.create(\n",
    "#     model=\"gpt-4o-mini\",\n",
    "#     messages=messages,\n",
    "# )\n",
    "# question = response.choices[0].message.content\n",
    "# print(question)\n"
   ]
  },
  {
   "cell_type": "code",
   "execution_count": 7,
   "metadata": {},
   "outputs": [],
   "source": [
    "\n",
    "from openai import OpenAI\n",
    "MODEL = \"llama3.2:3b\"\n",
    "openai = OpenAI(base_url=\"http://localhost:11434/v1\", api_key=\"ollama\")"
   ]
  },
  {
   "cell_type": "code",
   "execution_count": 8,
   "metadata": {},
   "outputs": [
    {
     "name": "stdout",
     "output_type": "stream",
     "text": [
      "A cognitive psychologist is studying the neural correlates of creativity in an individual who has been born without a right hemisphere. If this person is presented with musical examples and asked to describe the structure of music, what specific brain areas or processes can be expected to facilitate creative responses?\n"
     ]
    }
   ],
   "source": [
    "\n",
    "response = openai.chat.completions.create(\n",
    "    model=MODEL,\n",
    "    messages=messages\n",
    ")\n",
    "question = response.choices[0].message.content\n",
    "print(question)\n"
   ]
  },
  {
   "cell_type": "code",
   "execution_count": 9,
   "metadata": {},
   "outputs": [],
   "source": [
    "competitors = []\n",
    "answers = []\n",
    "messages = [{\"role\": \"user\", \"content\": question}]"
   ]
  },
  {
   "cell_type": "code",
   "execution_count": 10,
   "metadata": {},
   "outputs": [],
   "source": [
    "# # The API we know well\n",
    "\n",
    "# model_name = \"gpt-4o-mini\"\n",
    "\n",
    "# response = openai.chat.completions.create(model=model_name, messages=messages)\n",
    "# answer = response.choices[0].message.content\n",
    "\n",
    "# display(Markdown(answer))\n",
    "# competitors.append(model_name)\n",
    "# answers.append(answer)"
   ]
  },
  {
   "cell_type": "code",
   "execution_count": 11,
   "metadata": {},
   "outputs": [],
   "source": [
    "# # Anthropic has a slightly different API, and Max Tokens is required\n",
    "\n",
    "# model_name = \"claude-3-7-sonnet-latest\"\n",
    "\n",
    "# claude = Anthropic()\n",
    "# response = claude.messages.create(model=model_name, messages=messages, max_tokens=1000)\n",
    "# answer = response.content[0].text\n",
    "\n",
    "# display(Markdown(answer))\n",
    "# competitors.append(model_name)\n",
    "# answers.append(answer)"
   ]
  },
  {
   "cell_type": "code",
   "execution_count": 12,
   "metadata": {},
   "outputs": [
    {
     "data": {
      "text/markdown": [
       "This is a fascinating and complex question!  Since the individual is missing their right hemisphere, the left hemisphere must compensate for functions typically associated with the right, including those related to creativity, especially in a domain like music. Here's a breakdown of expected brain areas, processes, and how they might adapt in this unique scenario, along with considerations:\n",
       "\n",
       "**1. Pre-existing Left Hemisphere Functions & Adaptation:**\n",
       "\n",
       "*   **Language-Based Analysis (Left Frontal & Temporal Lobes - Broca's & Wernicke's Areas):**  Since the individual is asked to *describe* the structure, the left hemisphere's language centers will be crucial.\n",
       "    *   *Adaptation:* These areas would likely be highly developed, taking on an even more dominant role in processing and formulating musical understanding. They will attempt to analyze musical elements (melody, harmony, rhythm) in a rule-based, sequential, and descriptive manner.  Think of it as dissecting the music with logic.\n",
       "    *   *Creative Response:*  Instead of a holistic or intuitive grasp, the person might offer very precise, rule-driven, and technical descriptions of the music. For example: \"This piece uses a I-IV-V chord progression in C major. The melody modulates to the relative minor in measure 8.\"  While lacking potentially the emotional/intuitive understanding, this precise analysis can itself be a foundation for *rule-breaking creativity* later on. The person might become exceptionally skilled at composition based on algorithmic variations of these rules.\n",
       "\n",
       "*   **Working Memory & Executive Function (Left Prefrontal Cortex):** Holding musical ideas in mind, comparing them, and generating responses.\n",
       "    *   *Adaptation:*  This area would be critical for planning and sequencing responses.  It might be enhanced to compensate for the right hemisphere's role in more holistic processing.\n",
       "    *   *Creative Response:*  Enhanced working memory can allow for more complex and detailed descriptions and comparisons of musical elements.  Executive functions will guide the generation of novel combinations of musical ideas, albeit potentially in a more controlled, planned manner.\n",
       "\n",
       "*   **Auditory Cortex (Left Temporal Lobe):** Processing the basic auditory input (tones, rhythms).\n",
       "    *   *Adaptation:* The left auditory cortex will be the *sole* processor of auditory information. It is likely hyper-tuned and heavily connected to other left hemisphere regions.  The precise spectral and temporal analysis of sound will be maximized.\n",
       "    *   *Creative Response:*  The enhanced auditory processing might allow for incredibly fine-grained discrimination of musical elements, leading to highly detailed and unusual descriptions.\n",
       "\n",
       "**2. Potential Left Hemisphere Compensation Strategies:**\n",
       "\n",
       "*   **Over-Reliance on Rule-Based Systems:**\n",
       "    *   *Mechanism:* The left hemisphere may try to codify and analyze musical patterns into explicit rules to compensate for the loss of intuitive or gestalt processing usually handled by the right hemisphere.\n",
       "    *   *Creative Response:*  This could lead to a fascinating form of \"algorithmic creativity,\" where music is analyzed, broken down, and then reassembled according to deliberately chosen (and possibly unusual) rules. Think of early computer music, but driven by a human brain.\n",
       "\n",
       "*   **Enhanced Interhemispheric Connectivity (If any residual right hemisphere exists):**  Though a complete hemisphere is missing, there may be vestiges of right hemisphere structures.  If so, the connectivity between these and the left hemisphere could be unusually strong.\n",
       "    *   *Mechanism:* Increased communication across the corpus callosum (the bridge between hemispheres) from any remaining right-hemisphere tissue to the left.\n",
       "    *   *Creative Response:* This would enhance the left hemisphere's ability to integrate more holistic or intuitive elements, leading to more balanced creative responses.\n",
       "\n",
       "*   **Strengthened Emotional Association (via Left Amygdala/Hippocampus):** While the right hemisphere is often linked to emotional processing of music, the left hemisphere also plays a role. The left amygdala and hippocampus could become more involved in linking musical structures to specific emotional memories and associations.\n",
       "    *   *Mechanism:* Strengthening connections between auditory cortex and limbic structures.\n",
       "    *   *Creative Response:*  The individual might be able to create music with specific, well-defined emotional goals, even if the process of achieving those goals is more analytical than intuitive.\n",
       "\n",
       "**3. Challenges & Considerations:**\n",
       "\n",
       "*   **Lack of Holistic Processing:** The right hemisphere is crucial for gestalt perception (seeing the whole picture), spatial reasoning, and emotional processing of music. The person might struggle with grasping the overall emotional impact or flow of a piece. They might be hyper-focused on details and miss the larger context.\n",
       "*   **Potential for Atypical Emotional Response:**  While the left hemisphere can process some emotions, it often does so differently. The individual's emotional response to music might be muted, less nuanced, or expressed in an atypical way.\n",
       "*   **Difficulty with Implicit Learning:** The right hemisphere is important for implicit learning (learning without conscious awareness). The person might find it difficult to learn musical patterns or styles through simple exposure; they might need explicit instruction and rule-based systems.\n",
       "*   **Individual Variability:**  The extent of the compensation will depend on the individual's age at the time of the right hemisphere loss, their genetics, and their prior musical experience.\n",
       "\n",
       "**Specific Brain Imaging Techniques:**\n",
       "\n",
       "To study this further, cognitive psychologists could use techniques like:\n",
       "\n",
       "*   **fMRI (functional Magnetic Resonance Imaging):** To see which brain areas are active when the person is listening to and describing music. This can reveal the compensatory mechanisms described above.\n",
       "*   **EEG (Electroencephalography):** To measure brainwave activity related to different aspects of musical processing (e.g., attention, emotion).\n",
       "*   **DTI (Diffusion Tensor Imaging):** To map the white matter tracts (connections) in the brain. This can reveal how the left hemisphere has reorganized its connections to compensate for the missing right hemisphere.\n",
       "\n",
       "**In conclusion:**  The creative responses of an individual without a right hemisphere when describing music would likely be characterized by highly analytical, rule-based descriptions.  While lacking the intuitive gestalt perception typically associated with the right hemisphere, the left hemisphere can compensate by enhancing its language processing, working memory, and rule-based systems, potentially leading to unique forms of \"algorithmic creativity\" and a strengthened association between music and specific emotional memories.  Brain imaging can reveal the specific neural mechanisms underlying these adaptations. This research could provide valuable insights into the neural basis of creativity and the brain's remarkable capacity for plasticity.\n"
      ],
      "text/plain": [
       "<IPython.core.display.Markdown object>"
      ]
     },
     "metadata": {},
     "output_type": "display_data"
    }
   ],
   "source": [
    "gemini = OpenAI(api_key=google_api_key, base_url=\"https://generativelanguage.googleapis.com/v1beta/openai/\")\n",
    "model_name = \"gemini-2.0-flash\"\n",
    "\n",
    "response = gemini.chat.completions.create(model=model_name, messages=messages)\n",
    "answer = response.choices[0].message.content\n",
    "\n",
    "display(Markdown(answer))\n",
    "competitors.append(model_name)\n",
    "answers.append(answer)"
   ]
  },
  {
   "cell_type": "code",
   "execution_count": 13,
   "metadata": {},
   "outputs": [],
   "source": [
    "# deepseek = OpenAI(api_key=deepseek_api_key, base_url=\"https://api.deepseek.com/v1\")\n",
    "# model_name = \"deepseek-chat\"\n",
    "\n",
    "# response = deepseek.chat.completions.create(model=model_name, messages=messages)\n",
    "# answer = response.choices[0].message.content\n",
    "\n",
    "# display(Markdown(answer))\n",
    "# competitors.append(model_name)\n",
    "# answers.append(answer)"
   ]
  },
  {
   "cell_type": "code",
   "execution_count": 14,
   "metadata": {},
   "outputs": [],
   "source": [
    "# groq = OpenAI(api_key=groq_api_key, base_url=\"https://api.groq.com/openai/v1\")\n",
    "# model_name = \"llama-3.3-70b-versatile\"\n",
    "\n",
    "# response = groq.chat.completions.create(model=model_name, messages=messages)\n",
    "# answer = response.choices[0].message.content\n",
    "\n",
    "# display(Markdown(answer))\n",
    "# competitors.append(model_name)\n",
    "# answers.append(answer)\n"
   ]
  },
  {
   "cell_type": "markdown",
   "metadata": {},
   "source": [
    "## For the next cell, we will use Ollama\n",
    "\n",
    "Ollama runs a local web service that gives an OpenAI compatible endpoint,  \n",
    "and runs models locally using high performance C++ code.\n",
    "\n",
    "If you don't have Ollama, install it here by visiting https://ollama.com then pressing Download and following the instructions.\n",
    "\n",
    "After it's installed, you should be able to visit here: http://localhost:11434 and see the message \"Ollama is running\"\n",
    "\n",
    "You might need to restart Cursor (and maybe reboot). Then open a Terminal (control+\\`) and run `ollama serve`\n",
    "\n",
    "Useful Ollama commands (run these in the terminal, or with an exclamation mark in this notebook):\n",
    "\n",
    "`ollama pull <model_name>` downloads a model locally  \n",
    "`ollama ls` lists all the models you've downloaded  \n",
    "`ollama rm <model_name>` deletes the specified model from your downloads"
   ]
  },
  {
   "cell_type": "markdown",
   "metadata": {},
   "source": [
    "<table style=\"margin: 0; text-align: left; width:100%\">\n",
    "    <tr>\n",
    "        <td style=\"width: 150px; height: 150px; vertical-align: middle;\">\n",
    "            <img src=\"../assets/stop.png\" width=\"150\" height=\"150\" style=\"display: block;\" />\n",
    "        </td>\n",
    "        <td>\n",
    "            <h2 style=\"color:#ff7800;\">Super important - ignore me at your peril!</h2>\n",
    "            <span style=\"color:#ff7800;\">The model called <b>llama3.3</b> is FAR too large for home computers - it's not intended for personal computing and will consume all your resources! Stick with the nicely sized <b>llama3.2</b> or <b>llama3.2:1b</b> and if you want larger, try llama3.1 or smaller variants of Qwen, Gemma, Phi or DeepSeek. See the <A href=\"https://ollama.com/models\">the Ollama models page</a> for a full list of models and sizes.\n",
    "            </span>\n",
    "        </td>\n",
    "    </tr>\n",
    "</table>"
   ]
  },
  {
   "cell_type": "code",
   "execution_count": 15,
   "metadata": {},
   "outputs": [
    {
     "data": {
      "text/markdown": [
       "Given that the individual has been born without a right hemisphere, which is typically responsible for processing language, music, and spatial information, their response to the musical stimuli would likely involve compensatory mechanisms.\n",
       "\n",
       "The left hemisphere, particularly the left inferior frontal gyrus (Broca's area) and the left posterior superior temporal gyrus (Wernicke's area), would likely be active when trying to describe the structure of music. These areas are traditionally associated with language processing and verbal comprehension.\n",
       "\n",
       "However, to facilitate creative responses, several brain processes might come into play:\n",
       "\n",
       "1. **Inter-hemispheric communication**: The left hemisphere's language-processing regions might communicate with the right hemisphere to access some degree of musical processing and spatial information, potentially leading to more intuitive or conceptual understanding of music structure.\n",
       "2. **Compensatory activation of right-hemisphere equivalents**: Research has identified right-hemisphere homologues for certain tasks performed by the left hemisphere in individuals with brain damage or lateralization deficits (for example, mirror neurons in the anterior cingulate gyrus). These \"right-hemisphere equivalents\" might be recruited to facilitate creative responses.\n",
       "3. **Involvement of extrastriatal structures**: In music cognition, other structures like the dorsolateral prefrontal cortex (DLPFC) and the anterior cingulate cortex (ACC) play a role in executive control, attention, and error detection. These areas might contribute to facilitating creative responses by focusing resources and generating new ideas.\n",
       "4. **Use of prosody and musical syntax**: Research has shown that humans can understand musical structure based on prosody (the rhythm, stress, and intonation patterns used in musical language). This knowledge could allow the individual with brain atrophy to create more coherent and expressive responses.\n",
       "5. **Supplemental cognitive processes**: Creative responses might also rely on higher-level cognitive processes such as schema formation, contextualization, or mental imagery.\n",
       "6.  Engagement of **brain networks** for creativity: Studies suggest that creative tasks often involve network activation, particularly those involving the default mode network (DMN). The DMN includes areas like the posterior cingulate cortex and regions in the medial prefrontal cortex involved in introspection, self-referential processing, and mind-wandering.\n",
       "\n",
       "While these processes are present, the specific neural mechanisms facilitating creative responses might differ from what is expected in individuals with intact right hemispheres. The cognitive psychologist can expect that compensatory mechanisms would be activated to help individuals describe music structure, but creative responses might arise from more complex interactions between remaining brain areas, hemisphere-hemisphere communication, and cognition-related processes."
      ],
      "text/plain": [
       "<IPython.core.display.Markdown object>"
      ]
     },
     "metadata": {},
     "output_type": "display_data"
    }
   ],
   "source": [
    "ollama = OpenAI(base_url='http://localhost:11434/v1', api_key='ollama')\n",
    "model_name = \"llama3.2:3b\"\n",
    "\n",
    "response = ollama.chat.completions.create(model=model_name, messages=messages)\n",
    "answer = response.choices[0].message.content\n",
    "\n",
    "display(Markdown(answer))\n",
    "competitors.append(model_name)\n",
    "answers.append(answer)"
   ]
  },
  {
   "cell_type": "code",
   "execution_count": 16,
   "metadata": {},
   "outputs": [
    {
     "name": "stdout",
     "output_type": "stream",
     "text": [
      "['gemini-2.0-flash', 'llama3.2:3b']\n",
      "['This is a fascinating and complex question!  Since the individual is missing their right hemisphere, the left hemisphere must compensate for functions typically associated with the right, including those related to creativity, especially in a domain like music. Here\\'s a breakdown of expected brain areas, processes, and how they might adapt in this unique scenario, along with considerations:\\n\\n**1. Pre-existing Left Hemisphere Functions & Adaptation:**\\n\\n*   **Language-Based Analysis (Left Frontal & Temporal Lobes - Broca\\'s & Wernicke\\'s Areas):**  Since the individual is asked to *describe* the structure, the left hemisphere\\'s language centers will be crucial.\\n    *   *Adaptation:* These areas would likely be highly developed, taking on an even more dominant role in processing and formulating musical understanding. They will attempt to analyze musical elements (melody, harmony, rhythm) in a rule-based, sequential, and descriptive manner.  Think of it as dissecting the music with logic.\\n    *   *Creative Response:*  Instead of a holistic or intuitive grasp, the person might offer very precise, rule-driven, and technical descriptions of the music. For example: \"This piece uses a I-IV-V chord progression in C major. The melody modulates to the relative minor in measure 8.\"  While lacking potentially the emotional/intuitive understanding, this precise analysis can itself be a foundation for *rule-breaking creativity* later on. The person might become exceptionally skilled at composition based on algorithmic variations of these rules.\\n\\n*   **Working Memory & Executive Function (Left Prefrontal Cortex):** Holding musical ideas in mind, comparing them, and generating responses.\\n    *   *Adaptation:*  This area would be critical for planning and sequencing responses.  It might be enhanced to compensate for the right hemisphere\\'s role in more holistic processing.\\n    *   *Creative Response:*  Enhanced working memory can allow for more complex and detailed descriptions and comparisons of musical elements.  Executive functions will guide the generation of novel combinations of musical ideas, albeit potentially in a more controlled, planned manner.\\n\\n*   **Auditory Cortex (Left Temporal Lobe):** Processing the basic auditory input (tones, rhythms).\\n    *   *Adaptation:* The left auditory cortex will be the *sole* processor of auditory information. It is likely hyper-tuned and heavily connected to other left hemisphere regions.  The precise spectral and temporal analysis of sound will be maximized.\\n    *   *Creative Response:*  The enhanced auditory processing might allow for incredibly fine-grained discrimination of musical elements, leading to highly detailed and unusual descriptions.\\n\\n**2. Potential Left Hemisphere Compensation Strategies:**\\n\\n*   **Over-Reliance on Rule-Based Systems:**\\n    *   *Mechanism:* The left hemisphere may try to codify and analyze musical patterns into explicit rules to compensate for the loss of intuitive or gestalt processing usually handled by the right hemisphere.\\n    *   *Creative Response:*  This could lead to a fascinating form of \"algorithmic creativity,\" where music is analyzed, broken down, and then reassembled according to deliberately chosen (and possibly unusual) rules. Think of early computer music, but driven by a human brain.\\n\\n*   **Enhanced Interhemispheric Connectivity (If any residual right hemisphere exists):**  Though a complete hemisphere is missing, there may be vestiges of right hemisphere structures.  If so, the connectivity between these and the left hemisphere could be unusually strong.\\n    *   *Mechanism:* Increased communication across the corpus callosum (the bridge between hemispheres) from any remaining right-hemisphere tissue to the left.\\n    *   *Creative Response:* This would enhance the left hemisphere\\'s ability to integrate more holistic or intuitive elements, leading to more balanced creative responses.\\n\\n*   **Strengthened Emotional Association (via Left Amygdala/Hippocampus):** While the right hemisphere is often linked to emotional processing of music, the left hemisphere also plays a role. The left amygdala and hippocampus could become more involved in linking musical structures to specific emotional memories and associations.\\n    *   *Mechanism:* Strengthening connections between auditory cortex and limbic structures.\\n    *   *Creative Response:*  The individual might be able to create music with specific, well-defined emotional goals, even if the process of achieving those goals is more analytical than intuitive.\\n\\n**3. Challenges & Considerations:**\\n\\n*   **Lack of Holistic Processing:** The right hemisphere is crucial for gestalt perception (seeing the whole picture), spatial reasoning, and emotional processing of music. The person might struggle with grasping the overall emotional impact or flow of a piece. They might be hyper-focused on details and miss the larger context.\\n*   **Potential for Atypical Emotional Response:**  While the left hemisphere can process some emotions, it often does so differently. The individual\\'s emotional response to music might be muted, less nuanced, or expressed in an atypical way.\\n*   **Difficulty with Implicit Learning:** The right hemisphere is important for implicit learning (learning without conscious awareness). The person might find it difficult to learn musical patterns or styles through simple exposure; they might need explicit instruction and rule-based systems.\\n*   **Individual Variability:**  The extent of the compensation will depend on the individual\\'s age at the time of the right hemisphere loss, their genetics, and their prior musical experience.\\n\\n**Specific Brain Imaging Techniques:**\\n\\nTo study this further, cognitive psychologists could use techniques like:\\n\\n*   **fMRI (functional Magnetic Resonance Imaging):** To see which brain areas are active when the person is listening to and describing music. This can reveal the compensatory mechanisms described above.\\n*   **EEG (Electroencephalography):** To measure brainwave activity related to different aspects of musical processing (e.g., attention, emotion).\\n*   **DTI (Diffusion Tensor Imaging):** To map the white matter tracts (connections) in the brain. This can reveal how the left hemisphere has reorganized its connections to compensate for the missing right hemisphere.\\n\\n**In conclusion:**  The creative responses of an individual without a right hemisphere when describing music would likely be characterized by highly analytical, rule-based descriptions.  While lacking the intuitive gestalt perception typically associated with the right hemisphere, the left hemisphere can compensate by enhancing its language processing, working memory, and rule-based systems, potentially leading to unique forms of \"algorithmic creativity\" and a strengthened association between music and specific emotional memories.  Brain imaging can reveal the specific neural mechanisms underlying these adaptations. This research could provide valuable insights into the neural basis of creativity and the brain\\'s remarkable capacity for plasticity.\\n', 'Given that the individual has been born without a right hemisphere, which is typically responsible for processing language, music, and spatial information, their response to the musical stimuli would likely involve compensatory mechanisms.\\n\\nThe left hemisphere, particularly the left inferior frontal gyrus (Broca\\'s area) and the left posterior superior temporal gyrus (Wernicke\\'s area), would likely be active when trying to describe the structure of music. These areas are traditionally associated with language processing and verbal comprehension.\\n\\nHowever, to facilitate creative responses, several brain processes might come into play:\\n\\n1. **Inter-hemispheric communication**: The left hemisphere\\'s language-processing regions might communicate with the right hemisphere to access some degree of musical processing and spatial information, potentially leading to more intuitive or conceptual understanding of music structure.\\n2. **Compensatory activation of right-hemisphere equivalents**: Research has identified right-hemisphere homologues for certain tasks performed by the left hemisphere in individuals with brain damage or lateralization deficits (for example, mirror neurons in the anterior cingulate gyrus). These \"right-hemisphere equivalents\" might be recruited to facilitate creative responses.\\n3. **Involvement of extrastriatal structures**: In music cognition, other structures like the dorsolateral prefrontal cortex (DLPFC) and the anterior cingulate cortex (ACC) play a role in executive control, attention, and error detection. These areas might contribute to facilitating creative responses by focusing resources and generating new ideas.\\n4. **Use of prosody and musical syntax**: Research has shown that humans can understand musical structure based on prosody (the rhythm, stress, and intonation patterns used in musical language). This knowledge could allow the individual with brain atrophy to create more coherent and expressive responses.\\n5. **Supplemental cognitive processes**: Creative responses might also rely on higher-level cognitive processes such as schema formation, contextualization, or mental imagery.\\n6.  Engagement of **brain networks** for creativity: Studies suggest that creative tasks often involve network activation, particularly those involving the default mode network (DMN). The DMN includes areas like the posterior cingulate cortex and regions in the medial prefrontal cortex involved in introspection, self-referential processing, and mind-wandering.\\n\\nWhile these processes are present, the specific neural mechanisms facilitating creative responses might differ from what is expected in individuals with intact right hemispheres. The cognitive psychologist can expect that compensatory mechanisms would be activated to help individuals describe music structure, but creative responses might arise from more complex interactions between remaining brain areas, hemisphere-hemisphere communication, and cognition-related processes.']\n"
     ]
    }
   ],
   "source": [
    "# So where are we?\n",
    "\n",
    "print(competitors)\n",
    "print(answers)\n"
   ]
  },
  {
   "cell_type": "code",
   "execution_count": 17,
   "metadata": {},
   "outputs": [
    {
     "name": "stdout",
     "output_type": "stream",
     "text": [
      "Competitor: gemini-2.0-flash\n",
      "\n",
      "This is a fascinating and complex question!  Since the individual is missing their right hemisphere, the left hemisphere must compensate for functions typically associated with the right, including those related to creativity, especially in a domain like music. Here's a breakdown of expected brain areas, processes, and how they might adapt in this unique scenario, along with considerations:\n",
      "\n",
      "**1. Pre-existing Left Hemisphere Functions & Adaptation:**\n",
      "\n",
      "*   **Language-Based Analysis (Left Frontal & Temporal Lobes - Broca's & Wernicke's Areas):**  Since the individual is asked to *describe* the structure, the left hemisphere's language centers will be crucial.\n",
      "    *   *Adaptation:* These areas would likely be highly developed, taking on an even more dominant role in processing and formulating musical understanding. They will attempt to analyze musical elements (melody, harmony, rhythm) in a rule-based, sequential, and descriptive manner.  Think of it as dissecting the music with logic.\n",
      "    *   *Creative Response:*  Instead of a holistic or intuitive grasp, the person might offer very precise, rule-driven, and technical descriptions of the music. For example: \"This piece uses a I-IV-V chord progression in C major. The melody modulates to the relative minor in measure 8.\"  While lacking potentially the emotional/intuitive understanding, this precise analysis can itself be a foundation for *rule-breaking creativity* later on. The person might become exceptionally skilled at composition based on algorithmic variations of these rules.\n",
      "\n",
      "*   **Working Memory & Executive Function (Left Prefrontal Cortex):** Holding musical ideas in mind, comparing them, and generating responses.\n",
      "    *   *Adaptation:*  This area would be critical for planning and sequencing responses.  It might be enhanced to compensate for the right hemisphere's role in more holistic processing.\n",
      "    *   *Creative Response:*  Enhanced working memory can allow for more complex and detailed descriptions and comparisons of musical elements.  Executive functions will guide the generation of novel combinations of musical ideas, albeit potentially in a more controlled, planned manner.\n",
      "\n",
      "*   **Auditory Cortex (Left Temporal Lobe):** Processing the basic auditory input (tones, rhythms).\n",
      "    *   *Adaptation:* The left auditory cortex will be the *sole* processor of auditory information. It is likely hyper-tuned and heavily connected to other left hemisphere regions.  The precise spectral and temporal analysis of sound will be maximized.\n",
      "    *   *Creative Response:*  The enhanced auditory processing might allow for incredibly fine-grained discrimination of musical elements, leading to highly detailed and unusual descriptions.\n",
      "\n",
      "**2. Potential Left Hemisphere Compensation Strategies:**\n",
      "\n",
      "*   **Over-Reliance on Rule-Based Systems:**\n",
      "    *   *Mechanism:* The left hemisphere may try to codify and analyze musical patterns into explicit rules to compensate for the loss of intuitive or gestalt processing usually handled by the right hemisphere.\n",
      "    *   *Creative Response:*  This could lead to a fascinating form of \"algorithmic creativity,\" where music is analyzed, broken down, and then reassembled according to deliberately chosen (and possibly unusual) rules. Think of early computer music, but driven by a human brain.\n",
      "\n",
      "*   **Enhanced Interhemispheric Connectivity (If any residual right hemisphere exists):**  Though a complete hemisphere is missing, there may be vestiges of right hemisphere structures.  If so, the connectivity between these and the left hemisphere could be unusually strong.\n",
      "    *   *Mechanism:* Increased communication across the corpus callosum (the bridge between hemispheres) from any remaining right-hemisphere tissue to the left.\n",
      "    *   *Creative Response:* This would enhance the left hemisphere's ability to integrate more holistic or intuitive elements, leading to more balanced creative responses.\n",
      "\n",
      "*   **Strengthened Emotional Association (via Left Amygdala/Hippocampus):** While the right hemisphere is often linked to emotional processing of music, the left hemisphere also plays a role. The left amygdala and hippocampus could become more involved in linking musical structures to specific emotional memories and associations.\n",
      "    *   *Mechanism:* Strengthening connections between auditory cortex and limbic structures.\n",
      "    *   *Creative Response:*  The individual might be able to create music with specific, well-defined emotional goals, even if the process of achieving those goals is more analytical than intuitive.\n",
      "\n",
      "**3. Challenges & Considerations:**\n",
      "\n",
      "*   **Lack of Holistic Processing:** The right hemisphere is crucial for gestalt perception (seeing the whole picture), spatial reasoning, and emotional processing of music. The person might struggle with grasping the overall emotional impact or flow of a piece. They might be hyper-focused on details and miss the larger context.\n",
      "*   **Potential for Atypical Emotional Response:**  While the left hemisphere can process some emotions, it often does so differently. The individual's emotional response to music might be muted, less nuanced, or expressed in an atypical way.\n",
      "*   **Difficulty with Implicit Learning:** The right hemisphere is important for implicit learning (learning without conscious awareness). The person might find it difficult to learn musical patterns or styles through simple exposure; they might need explicit instruction and rule-based systems.\n",
      "*   **Individual Variability:**  The extent of the compensation will depend on the individual's age at the time of the right hemisphere loss, their genetics, and their prior musical experience.\n",
      "\n",
      "**Specific Brain Imaging Techniques:**\n",
      "\n",
      "To study this further, cognitive psychologists could use techniques like:\n",
      "\n",
      "*   **fMRI (functional Magnetic Resonance Imaging):** To see which brain areas are active when the person is listening to and describing music. This can reveal the compensatory mechanisms described above.\n",
      "*   **EEG (Electroencephalography):** To measure brainwave activity related to different aspects of musical processing (e.g., attention, emotion).\n",
      "*   **DTI (Diffusion Tensor Imaging):** To map the white matter tracts (connections) in the brain. This can reveal how the left hemisphere has reorganized its connections to compensate for the missing right hemisphere.\n",
      "\n",
      "**In conclusion:**  The creative responses of an individual without a right hemisphere when describing music would likely be characterized by highly analytical, rule-based descriptions.  While lacking the intuitive gestalt perception typically associated with the right hemisphere, the left hemisphere can compensate by enhancing its language processing, working memory, and rule-based systems, potentially leading to unique forms of \"algorithmic creativity\" and a strengthened association between music and specific emotional memories.  Brain imaging can reveal the specific neural mechanisms underlying these adaptations. This research could provide valuable insights into the neural basis of creativity and the brain's remarkable capacity for plasticity.\n",
      "\n",
      "Competitor: llama3.2:3b\n",
      "\n",
      "Given that the individual has been born without a right hemisphere, which is typically responsible for processing language, music, and spatial information, their response to the musical stimuli would likely involve compensatory mechanisms.\n",
      "\n",
      "The left hemisphere, particularly the left inferior frontal gyrus (Broca's area) and the left posterior superior temporal gyrus (Wernicke's area), would likely be active when trying to describe the structure of music. These areas are traditionally associated with language processing and verbal comprehension.\n",
      "\n",
      "However, to facilitate creative responses, several brain processes might come into play:\n",
      "\n",
      "1. **Inter-hemispheric communication**: The left hemisphere's language-processing regions might communicate with the right hemisphere to access some degree of musical processing and spatial information, potentially leading to more intuitive or conceptual understanding of music structure.\n",
      "2. **Compensatory activation of right-hemisphere equivalents**: Research has identified right-hemisphere homologues for certain tasks performed by the left hemisphere in individuals with brain damage or lateralization deficits (for example, mirror neurons in the anterior cingulate gyrus). These \"right-hemisphere equivalents\" might be recruited to facilitate creative responses.\n",
      "3. **Involvement of extrastriatal structures**: In music cognition, other structures like the dorsolateral prefrontal cortex (DLPFC) and the anterior cingulate cortex (ACC) play a role in executive control, attention, and error detection. These areas might contribute to facilitating creative responses by focusing resources and generating new ideas.\n",
      "4. **Use of prosody and musical syntax**: Research has shown that humans can understand musical structure based on prosody (the rhythm, stress, and intonation patterns used in musical language). This knowledge could allow the individual with brain atrophy to create more coherent and expressive responses.\n",
      "5. **Supplemental cognitive processes**: Creative responses might also rely on higher-level cognitive processes such as schema formation, contextualization, or mental imagery.\n",
      "6.  Engagement of **brain networks** for creativity: Studies suggest that creative tasks often involve network activation, particularly those involving the default mode network (DMN). The DMN includes areas like the posterior cingulate cortex and regions in the medial prefrontal cortex involved in introspection, self-referential processing, and mind-wandering.\n",
      "\n",
      "While these processes are present, the specific neural mechanisms facilitating creative responses might differ from what is expected in individuals with intact right hemispheres. The cognitive psychologist can expect that compensatory mechanisms would be activated to help individuals describe music structure, but creative responses might arise from more complex interactions between remaining brain areas, hemisphere-hemisphere communication, and cognition-related processes.\n"
     ]
    }
   ],
   "source": [
    "# It's nice to know how to use \"zip\"\n",
    "for competitor, answer in zip(competitors, answers):\n",
    "    print(f\"Competitor: {competitor}\\n\\n{answer}\")\n"
   ]
  },
  {
   "cell_type": "markdown",
   "metadata": {},
   "source": [
    "# Combiing Responses"
   ]
  },
  {
   "cell_type": "code",
   "execution_count": 18,
   "metadata": {},
   "outputs": [],
   "source": [
    "# Let's bring this together - note the use of \"enumerate\"\n",
    "\n",
    "together = \"\"\n",
    "for index, answer in enumerate(answers):\n",
    "    together += f\"# Response from competitor {index+1}\\n\\n\"\n",
    "    together += answer + \"\\n\\n\""
   ]
  },
  {
   "cell_type": "code",
   "execution_count": 19,
   "metadata": {},
   "outputs": [
    {
     "data": {
      "text/markdown": [
       "# Response from competitor 1\n",
       "\n",
       "This is a fascinating and complex question!  Since the individual is missing their right hemisphere, the left hemisphere must compensate for functions typically associated with the right, including those related to creativity, especially in a domain like music. Here's a breakdown of expected brain areas, processes, and how they might adapt in this unique scenario, along with considerations:\n",
       "\n",
       "**1. Pre-existing Left Hemisphere Functions & Adaptation:**\n",
       "\n",
       "*   **Language-Based Analysis (Left Frontal & Temporal Lobes - Broca's & Wernicke's Areas):**  Since the individual is asked to *describe* the structure, the left hemisphere's language centers will be crucial.\n",
       "    *   *Adaptation:* These areas would likely be highly developed, taking on an even more dominant role in processing and formulating musical understanding. They will attempt to analyze musical elements (melody, harmony, rhythm) in a rule-based, sequential, and descriptive manner.  Think of it as dissecting the music with logic.\n",
       "    *   *Creative Response:*  Instead of a holistic or intuitive grasp, the person might offer very precise, rule-driven, and technical descriptions of the music. For example: \"This piece uses a I-IV-V chord progression in C major. The melody modulates to the relative minor in measure 8.\"  While lacking potentially the emotional/intuitive understanding, this precise analysis can itself be a foundation for *rule-breaking creativity* later on. The person might become exceptionally skilled at composition based on algorithmic variations of these rules.\n",
       "\n",
       "*   **Working Memory & Executive Function (Left Prefrontal Cortex):** Holding musical ideas in mind, comparing them, and generating responses.\n",
       "    *   *Adaptation:*  This area would be critical for planning and sequencing responses.  It might be enhanced to compensate for the right hemisphere's role in more holistic processing.\n",
       "    *   *Creative Response:*  Enhanced working memory can allow for more complex and detailed descriptions and comparisons of musical elements.  Executive functions will guide the generation of novel combinations of musical ideas, albeit potentially in a more controlled, planned manner.\n",
       "\n",
       "*   **Auditory Cortex (Left Temporal Lobe):** Processing the basic auditory input (tones, rhythms).\n",
       "    *   *Adaptation:* The left auditory cortex will be the *sole* processor of auditory information. It is likely hyper-tuned and heavily connected to other left hemisphere regions.  The precise spectral and temporal analysis of sound will be maximized.\n",
       "    *   *Creative Response:*  The enhanced auditory processing might allow for incredibly fine-grained discrimination of musical elements, leading to highly detailed and unusual descriptions.\n",
       "\n",
       "**2. Potential Left Hemisphere Compensation Strategies:**\n",
       "\n",
       "*   **Over-Reliance on Rule-Based Systems:**\n",
       "    *   *Mechanism:* The left hemisphere may try to codify and analyze musical patterns into explicit rules to compensate for the loss of intuitive or gestalt processing usually handled by the right hemisphere.\n",
       "    *   *Creative Response:*  This could lead to a fascinating form of \"algorithmic creativity,\" where music is analyzed, broken down, and then reassembled according to deliberately chosen (and possibly unusual) rules. Think of early computer music, but driven by a human brain.\n",
       "\n",
       "*   **Enhanced Interhemispheric Connectivity (If any residual right hemisphere exists):**  Though a complete hemisphere is missing, there may be vestiges of right hemisphere structures.  If so, the connectivity between these and the left hemisphere could be unusually strong.\n",
       "    *   *Mechanism:* Increased communication across the corpus callosum (the bridge between hemispheres) from any remaining right-hemisphere tissue to the left.\n",
       "    *   *Creative Response:* This would enhance the left hemisphere's ability to integrate more holistic or intuitive elements, leading to more balanced creative responses.\n",
       "\n",
       "*   **Strengthened Emotional Association (via Left Amygdala/Hippocampus):** While the right hemisphere is often linked to emotional processing of music, the left hemisphere also plays a role. The left amygdala and hippocampus could become more involved in linking musical structures to specific emotional memories and associations.\n",
       "    *   *Mechanism:* Strengthening connections between auditory cortex and limbic structures.\n",
       "    *   *Creative Response:*  The individual might be able to create music with specific, well-defined emotional goals, even if the process of achieving those goals is more analytical than intuitive.\n",
       "\n",
       "**3. Challenges & Considerations:**\n",
       "\n",
       "*   **Lack of Holistic Processing:** The right hemisphere is crucial for gestalt perception (seeing the whole picture), spatial reasoning, and emotional processing of music. The person might struggle with grasping the overall emotional impact or flow of a piece. They might be hyper-focused on details and miss the larger context.\n",
       "*   **Potential for Atypical Emotional Response:**  While the left hemisphere can process some emotions, it often does so differently. The individual's emotional response to music might be muted, less nuanced, or expressed in an atypical way.\n",
       "*   **Difficulty with Implicit Learning:** The right hemisphere is important for implicit learning (learning without conscious awareness). The person might find it difficult to learn musical patterns or styles through simple exposure; they might need explicit instruction and rule-based systems.\n",
       "*   **Individual Variability:**  The extent of the compensation will depend on the individual's age at the time of the right hemisphere loss, their genetics, and their prior musical experience.\n",
       "\n",
       "**Specific Brain Imaging Techniques:**\n",
       "\n",
       "To study this further, cognitive psychologists could use techniques like:\n",
       "\n",
       "*   **fMRI (functional Magnetic Resonance Imaging):** To see which brain areas are active when the person is listening to and describing music. This can reveal the compensatory mechanisms described above.\n",
       "*   **EEG (Electroencephalography):** To measure brainwave activity related to different aspects of musical processing (e.g., attention, emotion).\n",
       "*   **DTI (Diffusion Tensor Imaging):** To map the white matter tracts (connections) in the brain. This can reveal how the left hemisphere has reorganized its connections to compensate for the missing right hemisphere.\n",
       "\n",
       "**In conclusion:**  The creative responses of an individual without a right hemisphere when describing music would likely be characterized by highly analytical, rule-based descriptions.  While lacking the intuitive gestalt perception typically associated with the right hemisphere, the left hemisphere can compensate by enhancing its language processing, working memory, and rule-based systems, potentially leading to unique forms of \"algorithmic creativity\" and a strengthened association between music and specific emotional memories.  Brain imaging can reveal the specific neural mechanisms underlying these adaptations. This research could provide valuable insights into the neural basis of creativity and the brain's remarkable capacity for plasticity.\n",
       "\n",
       "\n",
       "# Response from competitor 2\n",
       "\n",
       "Given that the individual has been born without a right hemisphere, which is typically responsible for processing language, music, and spatial information, their response to the musical stimuli would likely involve compensatory mechanisms.\n",
       "\n",
       "The left hemisphere, particularly the left inferior frontal gyrus (Broca's area) and the left posterior superior temporal gyrus (Wernicke's area), would likely be active when trying to describe the structure of music. These areas are traditionally associated with language processing and verbal comprehension.\n",
       "\n",
       "However, to facilitate creative responses, several brain processes might come into play:\n",
       "\n",
       "1. **Inter-hemispheric communication**: The left hemisphere's language-processing regions might communicate with the right hemisphere to access some degree of musical processing and spatial information, potentially leading to more intuitive or conceptual understanding of music structure.\n",
       "2. **Compensatory activation of right-hemisphere equivalents**: Research has identified right-hemisphere homologues for certain tasks performed by the left hemisphere in individuals with brain damage or lateralization deficits (for example, mirror neurons in the anterior cingulate gyrus). These \"right-hemisphere equivalents\" might be recruited to facilitate creative responses.\n",
       "3. **Involvement of extrastriatal structures**: In music cognition, other structures like the dorsolateral prefrontal cortex (DLPFC) and the anterior cingulate cortex (ACC) play a role in executive control, attention, and error detection. These areas might contribute to facilitating creative responses by focusing resources and generating new ideas.\n",
       "4. **Use of prosody and musical syntax**: Research has shown that humans can understand musical structure based on prosody (the rhythm, stress, and intonation patterns used in musical language). This knowledge could allow the individual with brain atrophy to create more coherent and expressive responses.\n",
       "5. **Supplemental cognitive processes**: Creative responses might also rely on higher-level cognitive processes such as schema formation, contextualization, or mental imagery.\n",
       "6.  Engagement of **brain networks** for creativity: Studies suggest that creative tasks often involve network activation, particularly those involving the default mode network (DMN). The DMN includes areas like the posterior cingulate cortex and regions in the medial prefrontal cortex involved in introspection, self-referential processing, and mind-wandering.\n",
       "\n",
       "While these processes are present, the specific neural mechanisms facilitating creative responses might differ from what is expected in individuals with intact right hemispheres. The cognitive psychologist can expect that compensatory mechanisms would be activated to help individuals describe music structure, but creative responses might arise from more complex interactions between remaining brain areas, hemisphere-hemisphere communication, and cognition-related processes.\n",
       "\n"
      ],
      "text/plain": [
       "<IPython.core.display.Markdown object>"
      ]
     },
     "metadata": {},
     "output_type": "display_data"
    }
   ],
   "source": [
    "display(Markdown(together))"
   ]
  },
  {
   "cell_type": "markdown",
   "metadata": {},
   "source": [
    "# Justification"
   ]
  },
  {
   "cell_type": "markdown",
   "metadata": {},
   "source": [
    "## Prompt"
   ]
  },
  {
   "cell_type": "code",
   "execution_count": 39,
   "metadata": {},
   "outputs": [],
   "source": [
    "judge = f\"\"\"You are judging a competition between {len(competitors)} competitors.\n",
    "Each model has been given this question:\n",
    "\n",
    "{question}\n",
    "\n",
    "Here are the responses from each competitor:\n",
    "\n",
    "{together}\n",
    "\n",
    "First, provide a detailed analysis of the strenghths & weakness of each response individually. \n",
    "Then compare the responses directly.\n",
    "Finally, rank these responses from best to worst and explain your rationale clearly.\n",
    "\n",
    "\"\"\"\n"
   ]
  },
  {
   "cell_type": "code",
   "execution_count": 41,
   "metadata": {},
   "outputs": [
    {
     "data": {
      "text/markdown": [
       "You are judging a competition between 2 competitors.\n",
       "Each model has been given this question:\n",
       "\n",
       "A cognitive psychologist is studying the neural correlates of creativity in an individual who has been born without a right hemisphere. If this person is presented with musical examples and asked to describe the structure of music, what specific brain areas or processes can be expected to facilitate creative responses?\n",
       "\n",
       "Here are the responses from each competitor:\n",
       "\n",
       "# Response from competitor 1\n",
       "\n",
       "This is a fascinating and complex question!  Since the individual is missing their right hemisphere, the left hemisphere must compensate for functions typically associated with the right, including those related to creativity, especially in a domain like music. Here's a breakdown of expected brain areas, processes, and how they might adapt in this unique scenario, along with considerations:\n",
       "\n",
       "**1. Pre-existing Left Hemisphere Functions & Adaptation:**\n",
       "\n",
       "*   **Language-Based Analysis (Left Frontal & Temporal Lobes - Broca's & Wernicke's Areas):**  Since the individual is asked to *describe* the structure, the left hemisphere's language centers will be crucial.\n",
       "    *   *Adaptation:* These areas would likely be highly developed, taking on an even more dominant role in processing and formulating musical understanding. They will attempt to analyze musical elements (melody, harmony, rhythm) in a rule-based, sequential, and descriptive manner.  Think of it as dissecting the music with logic.\n",
       "    *   *Creative Response:*  Instead of a holistic or intuitive grasp, the person might offer very precise, rule-driven, and technical descriptions of the music. For example: \"This piece uses a I-IV-V chord progression in C major. The melody modulates to the relative minor in measure 8.\"  While lacking potentially the emotional/intuitive understanding, this precise analysis can itself be a foundation for *rule-breaking creativity* later on. The person might become exceptionally skilled at composition based on algorithmic variations of these rules.\n",
       "\n",
       "*   **Working Memory & Executive Function (Left Prefrontal Cortex):** Holding musical ideas in mind, comparing them, and generating responses.\n",
       "    *   *Adaptation:*  This area would be critical for planning and sequencing responses.  It might be enhanced to compensate for the right hemisphere's role in more holistic processing.\n",
       "    *   *Creative Response:*  Enhanced working memory can allow for more complex and detailed descriptions and comparisons of musical elements.  Executive functions will guide the generation of novel combinations of musical ideas, albeit potentially in a more controlled, planned manner.\n",
       "\n",
       "*   **Auditory Cortex (Left Temporal Lobe):** Processing the basic auditory input (tones, rhythms).\n",
       "    *   *Adaptation:* The left auditory cortex will be the *sole* processor of auditory information. It is likely hyper-tuned and heavily connected to other left hemisphere regions.  The precise spectral and temporal analysis of sound will be maximized.\n",
       "    *   *Creative Response:*  The enhanced auditory processing might allow for incredibly fine-grained discrimination of musical elements, leading to highly detailed and unusual descriptions.\n",
       "\n",
       "**2. Potential Left Hemisphere Compensation Strategies:**\n",
       "\n",
       "*   **Over-Reliance on Rule-Based Systems:**\n",
       "    *   *Mechanism:* The left hemisphere may try to codify and analyze musical patterns into explicit rules to compensate for the loss of intuitive or gestalt processing usually handled by the right hemisphere.\n",
       "    *   *Creative Response:*  This could lead to a fascinating form of \"algorithmic creativity,\" where music is analyzed, broken down, and then reassembled according to deliberately chosen (and possibly unusual) rules. Think of early computer music, but driven by a human brain.\n",
       "\n",
       "*   **Enhanced Interhemispheric Connectivity (If any residual right hemisphere exists):**  Though a complete hemisphere is missing, there may be vestiges of right hemisphere structures.  If so, the connectivity between these and the left hemisphere could be unusually strong.\n",
       "    *   *Mechanism:* Increased communication across the corpus callosum (the bridge between hemispheres) from any remaining right-hemisphere tissue to the left.\n",
       "    *   *Creative Response:* This would enhance the left hemisphere's ability to integrate more holistic or intuitive elements, leading to more balanced creative responses.\n",
       "\n",
       "*   **Strengthened Emotional Association (via Left Amygdala/Hippocampus):** While the right hemisphere is often linked to emotional processing of music, the left hemisphere also plays a role. The left amygdala and hippocampus could become more involved in linking musical structures to specific emotional memories and associations.\n",
       "    *   *Mechanism:* Strengthening connections between auditory cortex and limbic structures.\n",
       "    *   *Creative Response:*  The individual might be able to create music with specific, well-defined emotional goals, even if the process of achieving those goals is more analytical than intuitive.\n",
       "\n",
       "**3. Challenges & Considerations:**\n",
       "\n",
       "*   **Lack of Holistic Processing:** The right hemisphere is crucial for gestalt perception (seeing the whole picture), spatial reasoning, and emotional processing of music. The person might struggle with grasping the overall emotional impact or flow of a piece. They might be hyper-focused on details and miss the larger context.\n",
       "*   **Potential for Atypical Emotional Response:**  While the left hemisphere can process some emotions, it often does so differently. The individual's emotional response to music might be muted, less nuanced, or expressed in an atypical way.\n",
       "*   **Difficulty with Implicit Learning:** The right hemisphere is important for implicit learning (learning without conscious awareness). The person might find it difficult to learn musical patterns or styles through simple exposure; they might need explicit instruction and rule-based systems.\n",
       "*   **Individual Variability:**  The extent of the compensation will depend on the individual's age at the time of the right hemisphere loss, their genetics, and their prior musical experience.\n",
       "\n",
       "**Specific Brain Imaging Techniques:**\n",
       "\n",
       "To study this further, cognitive psychologists could use techniques like:\n",
       "\n",
       "*   **fMRI (functional Magnetic Resonance Imaging):** To see which brain areas are active when the person is listening to and describing music. This can reveal the compensatory mechanisms described above.\n",
       "*   **EEG (Electroencephalography):** To measure brainwave activity related to different aspects of musical processing (e.g., attention, emotion).\n",
       "*   **DTI (Diffusion Tensor Imaging):** To map the white matter tracts (connections) in the brain. This can reveal how the left hemisphere has reorganized its connections to compensate for the missing right hemisphere.\n",
       "\n",
       "**In conclusion:**  The creative responses of an individual without a right hemisphere when describing music would likely be characterized by highly analytical, rule-based descriptions.  While lacking the intuitive gestalt perception typically associated with the right hemisphere, the left hemisphere can compensate by enhancing its language processing, working memory, and rule-based systems, potentially leading to unique forms of \"algorithmic creativity\" and a strengthened association between music and specific emotional memories.  Brain imaging can reveal the specific neural mechanisms underlying these adaptations. This research could provide valuable insights into the neural basis of creativity and the brain's remarkable capacity for plasticity.\n",
       "\n",
       "\n",
       "# Response from competitor 2\n",
       "\n",
       "Given that the individual has been born without a right hemisphere, which is typically responsible for processing language, music, and spatial information, their response to the musical stimuli would likely involve compensatory mechanisms.\n",
       "\n",
       "The left hemisphere, particularly the left inferior frontal gyrus (Broca's area) and the left posterior superior temporal gyrus (Wernicke's area), would likely be active when trying to describe the structure of music. These areas are traditionally associated with language processing and verbal comprehension.\n",
       "\n",
       "However, to facilitate creative responses, several brain processes might come into play:\n",
       "\n",
       "1. **Inter-hemispheric communication**: The left hemisphere's language-processing regions might communicate with the right hemisphere to access some degree of musical processing and spatial information, potentially leading to more intuitive or conceptual understanding of music structure.\n",
       "2. **Compensatory activation of right-hemisphere equivalents**: Research has identified right-hemisphere homologues for certain tasks performed by the left hemisphere in individuals with brain damage or lateralization deficits (for example, mirror neurons in the anterior cingulate gyrus). These \"right-hemisphere equivalents\" might be recruited to facilitate creative responses.\n",
       "3. **Involvement of extrastriatal structures**: In music cognition, other structures like the dorsolateral prefrontal cortex (DLPFC) and the anterior cingulate cortex (ACC) play a role in executive control, attention, and error detection. These areas might contribute to facilitating creative responses by focusing resources and generating new ideas.\n",
       "4. **Use of prosody and musical syntax**: Research has shown that humans can understand musical structure based on prosody (the rhythm, stress, and intonation patterns used in musical language). This knowledge could allow the individual with brain atrophy to create more coherent and expressive responses.\n",
       "5. **Supplemental cognitive processes**: Creative responses might also rely on higher-level cognitive processes such as schema formation, contextualization, or mental imagery.\n",
       "6.  Engagement of **brain networks** for creativity: Studies suggest that creative tasks often involve network activation, particularly those involving the default mode network (DMN). The DMN includes areas like the posterior cingulate cortex and regions in the medial prefrontal cortex involved in introspection, self-referential processing, and mind-wandering.\n",
       "\n",
       "While these processes are present, the specific neural mechanisms facilitating creative responses might differ from what is expected in individuals with intact right hemispheres. The cognitive psychologist can expect that compensatory mechanisms would be activated to help individuals describe music structure, but creative responses might arise from more complex interactions between remaining brain areas, hemisphere-hemisphere communication, and cognition-related processes.\n",
       "\n",
       "\n",
       "\n",
       "First, provide a detailed analysis of the strenghths & weakness of each response individually. \n",
       "Then compare the responses directly.\n",
       "Finally, rank these responses from best to worst and explain your rationale clearly.\n",
       "\n"
      ],
      "text/plain": [
       "<IPython.core.display.Markdown object>"
      ]
     },
     "metadata": {},
     "output_type": "display_data"
    }
   ],
   "source": [
    "display(Markdown(judge))"
   ]
  },
  {
   "cell_type": "code",
   "execution_count": 42,
   "metadata": {},
   "outputs": [],
   "source": [
    "judge_messages = [{\"role\": \"user\", \"content\": judge}]"
   ]
  },
  {
   "cell_type": "markdown",
   "metadata": {},
   "source": [
    "## Response"
   ]
  },
  {
   "cell_type": "code",
   "execution_count": 44,
   "metadata": {},
   "outputs": [
    {
     "data": {
      "text/markdown": [
       "**Analysis of Competitor 1's Response**\n",
       "\n",
       "Strengths:\n",
       "\n",
       "1. **Comprehensive overview**: The respondent provides a thorough explanation of the expected brain areas and processes involved in creative responses, covering both compensatory mechanisms and potential strengths.\n",
       "2. **Specific examples and analogies**: The use of specific musical concepts (e.g., \"I-IV-V chord progression\") and analogues (e.g., early computer music) helps clarify complex ideas.\n",
       "3. **Challenges and considerations**: The respondent acknowledges potential difficulties, such as a lack of holistic processing or atypical emotional responses, which demonstrates an understanding of the complex nature of creativity.\n",
       "\n",
       "Weaknesses:\n",
       "\n",
       "1. **Oversimplification**: Some points feel oversimplified (e.g., \"rule-based systems\" might lead to \"algorithmic creativity\"). More nuanced discussions would strengthen the argument.\n",
       "2. **Lack of concrete evidence**: The response relies heavily on hypotheticals and theoretical explanations, which may not fully capture the complexity of human cognition.\n",
       "\n",
       "**Analysis of Competitor 2's Response**\n",
       "\n",
       "Strengths:\n",
       "\n",
       "1. **Inclusion of diverse processes**: The respondent acknowledges a broader range of brain areas and processes involved in creative responses.\n",
       "2. **Better recognition of inter-hemispheric communication**: They correctly identify the importance of inter-hemispheric communication for facilitating creative responses.\n",
       "\n",
       "Weaknesss:\n",
       "\n",
       "1. **Limited depth**: While mentioning multiple processes, the response does not delve as deeply into each topic as Competitor 1's analysis.\n",
       "2. **Less concrete evidence**: The respondent relies more on theoretical explanations and hypothetical scenarios than concrete empirical insights.\n",
       "\n",
       "**Comparison of Responses**\n",
       "\n",
       "Competitors 1 and 2 differ significantly in their approaches:\n",
       "\n",
       "1.  Competitor 1 provides a richer, more detailed explanation of compensatory mechanisms. They extensively describe the expected adaptations in left-hemisphere regions and consider challenges such as atypical emotional responses and implicit learning.\n",
       "2.  Competitor 2's response highlights broader brain processes but is less focused on specific hemispheric interactions.\n",
       "\n",
       "Overall, while both competitors demonstrate a basic understanding of the topic, Competitor 1 provides more comprehensive analysis and concrete examples to support their arguments.\n",
       "\n",
       "\n",
       "\n",
       "**Ranking of Responses**\n",
       "\n",
       "Based on depth, detail, and overall clarity:\n",
       "\n",
       "1.  **Competitor 1**: Demonstrates a better grasp of compensatory mechanisms in creative responses, exploring both strengths and challenges.\n",
       "2.  **Competitor 2**: While covering a broader range of ideas, fails to delve as deeply into specific details.\n",
       "\n",
       "\n",
       "\n",
       "**Rationale**\n",
       "\n",
       "Ranking Competitors 1 and 2 requires an objective evaluation based on their performance.\n",
       "\n",
       "*   Both competitors offer strong analyses, but they focus on different aspects (Compensatory mechanisms vs. Brain processes involved).\n",
       "*   **Competitor 1** demonstrates higher proficiency in analyzing compensatory mechanisms, demonstrating a clear and coherent argument supported by well-chosen examples.\n",
       "\n",
       "\n",
       "\n",
       "Based on Competitors 1's strengths and depth of reasoning, this competition should award **Best Answer to The Problem**"
      ],
      "text/plain": [
       "<IPython.core.display.Markdown object>"
      ]
     },
     "metadata": {},
     "output_type": "display_data"
    }
   ],
   "source": [
    "# Let's bring this together - note the use of \"enumerate\"\n",
    "\n",
    "\n",
    "response = openai.chat.completions.create(\n",
    "    model = MODEL,\n",
    "    messages=judge_messages,\n",
    ")\n",
    "results = response.choices[0].message.content\n",
    "display(Markdown(results))\n"
   ]
  },
  {
   "cell_type": "markdown",
   "metadata": {},
   "source": [
    "# Results"
   ]
  },
  {
   "cell_type": "markdown",
   "metadata": {},
   "source": [
    "## Prompt"
   ]
  },
  {
   "cell_type": "code",
   "execution_count": 45,
   "metadata": {},
   "outputs": [],
   "source": [
    "judge = f\"\"\"\n",
    "Each model has been given this question:\n",
    "\n",
    "{question}\n",
    "\n",
    "You already gave a detailed analysis based on the response from the different competition.\n",
    "Now you job is to rank them based on your analysis, in order of best to worst.\n",
    "Respond with JSON, and only JSON, with the following format:\n",
    "{{\"results\": [\"best competitor number\", \"second best competitor number\", \"third best competitor number\", ...]}}\n",
    "\n",
    "Here is the analyis of the responses from each competitor:\n",
    "\n",
    "{results}\n",
    "\n",
    "Now respond with the JSON with the ranked order of the competitors, nothing else. \n",
    "Do not include markdown formatting or code blocks.\"\"\""
   ]
  },
  {
   "cell_type": "code",
   "execution_count": 46,
   "metadata": {},
   "outputs": [
    {
     "name": "stdout",
     "output_type": "stream",
     "text": [
      "\n",
      "Each model has been given this question:\n",
      "\n",
      "A cognitive psychologist is studying the neural correlates of creativity in an individual who has been born without a right hemisphere. If this person is presented with musical examples and asked to describe the structure of music, what specific brain areas or processes can be expected to facilitate creative responses?\n",
      "\n",
      "You already gave a detailed analysis based on the response from the different competition.\n",
      "Now you job is to rank them based on your analysis, in order of best to worst.\n",
      "Respond with JSON, and only JSON, with the following format:\n",
      "{\"results\": [\"best competitor number\", \"second best competitor number\", \"third best competitor number\", ...]}\n",
      "\n",
      "Here is the analyis of the responses from each competitor:\n",
      "\n",
      "**Analysis of Competitor 1's Response**\n",
      "\n",
      "Strengths:\n",
      "\n",
      "1. **Comprehensive overview**: The respondent provides a thorough explanation of the expected brain areas and processes involved in creative responses, covering both compensatory mechanisms and potential strengths.\n",
      "2. **Specific examples and analogies**: The use of specific musical concepts (e.g., \"I-IV-V chord progression\") and analogues (e.g., early computer music) helps clarify complex ideas.\n",
      "3. **Challenges and considerations**: The respondent acknowledges potential difficulties, such as a lack of holistic processing or atypical emotional responses, which demonstrates an understanding of the complex nature of creativity.\n",
      "\n",
      "Weaknesses:\n",
      "\n",
      "1. **Oversimplification**: Some points feel oversimplified (e.g., \"rule-based systems\" might lead to \"algorithmic creativity\"). More nuanced discussions would strengthen the argument.\n",
      "2. **Lack of concrete evidence**: The response relies heavily on hypotheticals and theoretical explanations, which may not fully capture the complexity of human cognition.\n",
      "\n",
      "**Analysis of Competitor 2's Response**\n",
      "\n",
      "Strengths:\n",
      "\n",
      "1. **Inclusion of diverse processes**: The respondent acknowledges a broader range of brain areas and processes involved in creative responses.\n",
      "2. **Better recognition of inter-hemispheric communication**: They correctly identify the importance of inter-hemispheric communication for facilitating creative responses.\n",
      "\n",
      "Weaknesss:\n",
      "\n",
      "1. **Limited depth**: While mentioning multiple processes, the response does not delve as deeply into each topic as Competitor 1's analysis.\n",
      "2. **Less concrete evidence**: The respondent relies more on theoretical explanations and hypothetical scenarios than concrete empirical insights.\n",
      "\n",
      "**Comparison of Responses**\n",
      "\n",
      "Competitors 1 and 2 differ significantly in their approaches:\n",
      "\n",
      "1.  Competitor 1 provides a richer, more detailed explanation of compensatory mechanisms. They extensively describe the expected adaptations in left-hemisphere regions and consider challenges such as atypical emotional responses and implicit learning.\n",
      "2.  Competitor 2's response highlights broader brain processes but is less focused on specific hemispheric interactions.\n",
      "\n",
      "Overall, while both competitors demonstrate a basic understanding of the topic, Competitor 1 provides more comprehensive analysis and concrete examples to support their arguments.\n",
      "\n",
      "\n",
      "\n",
      "**Ranking of Responses**\n",
      "\n",
      "Based on depth, detail, and overall clarity:\n",
      "\n",
      "1.  **Competitor 1**: Demonstrates a better grasp of compensatory mechanisms in creative responses, exploring both strengths and challenges.\n",
      "2.  **Competitor 2**: While covering a broader range of ideas, fails to delve as deeply into specific details.\n",
      "\n",
      "\n",
      "\n",
      "**Rationale**\n",
      "\n",
      "Ranking Competitors 1 and 2 requires an objective evaluation based on their performance.\n",
      "\n",
      "*   Both competitors offer strong analyses, but they focus on different aspects (Compensatory mechanisms vs. Brain processes involved).\n",
      "*   **Competitor 1** demonstrates higher proficiency in analyzing compensatory mechanisms, demonstrating a clear and coherent argument supported by well-chosen examples.\n",
      "\n",
      "\n",
      "\n",
      "Based on Competitors 1's strengths and depth of reasoning, this competition should award **Best Answer to The Problem**\n",
      "\n",
      "Now respond with the JSON with the ranked order of the competitors, nothing else. \n",
      "Do not include markdown formatting or code blocks.\n"
     ]
    }
   ],
   "source": [
    "print(judge)"
   ]
  },
  {
   "cell_type": "code",
   "execution_count": 47,
   "metadata": {},
   "outputs": [],
   "source": [
    "judge_messages = [{\"role\": \"user\", \"content\": judge}]\n"
   ]
  },
  {
   "cell_type": "markdown",
   "metadata": {},
   "source": [
    "## Response"
   ]
  },
  {
   "cell_type": "code",
   "execution_count": 48,
   "metadata": {},
   "outputs": [
    {
     "data": {
      "text/markdown": [
       "{\"results\": [1, 2]}"
      ],
      "text/plain": [
       "<IPython.core.display.Markdown object>"
      ]
     },
     "metadata": {},
     "output_type": "display_data"
    }
   ],
   "source": [
    "# Let's bring this together - note the use of \"enumerate\"\n",
    "\n",
    "\n",
    "response = openai.chat.completions.create(\n",
    "    model = MODEL,\n",
    "    messages=judge_messages,\n",
    ")\n",
    "results = response.choices[0].message.content\n",
    "display(Markdown(results))\n"
   ]
  },
  {
   "cell_type": "code",
   "execution_count": 49,
   "metadata": {},
   "outputs": [
    {
     "name": "stdout",
     "output_type": "stream",
     "text": [
      "Rank 1: llama3.2:3b\n",
      "Rank 2: gemini-2.0-flash\n"
     ]
    }
   ],
   "source": [
    "# OK let's turn this into results!\n",
    "\n",
    "results_dict = json.loads(results)\n",
    "ranks = results_dict[\"results\"]\n",
    "for index, result in enumerate(ranks):\n",
    "    competitor = competitors[int(result)-2]\n",
    "    print(f\"Rank {index+1}: {competitor}\")"
   ]
  },
  {
   "cell_type": "markdown",
   "metadata": {},
   "source": [
    "<table style=\"margin: 0; text-align: left; width:100%\">\n",
    "    <tr>\n",
    "        <td style=\"width: 150px; height: 150px; vertical-align: middle;\">\n",
    "            <img src=\"../assets/exercise.png\" width=\"150\" height=\"150\" style=\"display: block;\" />\n",
    "        </td>\n",
    "        <td>\n",
    "            <h1 style=\"color:#ff7800;\">Exercise</h1>\n",
    "            <span style=\"color:#ff7800;\">Which pattern(s) did this use? Try updating this to add another Agentic design pattern.\n",
    "            </span>\n",
    "        </td>\n",
    "    </tr>\n",
    "</table>"
   ]
  },
  {
   "cell_type": "markdown",
   "metadata": {},
   "source": [
    "<table style=\"margin: 0; text-align: left; width:100%\">\n",
    "    <tr>\n",
    "        <td style=\"width: 150px; height: 150px; vertical-align: middle;\">\n",
    "            <img src=\"../assets/business.png\" width=\"150\" height=\"150\" style=\"display: block;\" />\n",
    "        </td>\n",
    "        <td>\n",
    "            <h2 style=\"color:#00bfff;\">Commercial implications</h2>\n",
    "            <span style=\"color:#00bfff;\">These kinds of patterns - to send a task to multiple models, and evaluate results,\n",
    "            and common where you need to improve the quality of your LLM response. This approach can be universally applied\n",
    "            to business projects where accuracy is critical.\n",
    "            </span>\n",
    "        </td>\n",
    "    </tr>\n",
    "</table>"
   ]
  }
 ],
 "metadata": {
  "kernelspec": {
   "display_name": ".venv",
   "language": "python",
   "name": "python3"
  },
  "language_info": {
   "codemirror_mode": {
    "name": "ipython",
    "version": 3
   },
   "file_extension": ".py",
   "mimetype": "text/x-python",
   "name": "python",
   "nbconvert_exporter": "python",
   "pygments_lexer": "ipython3",
   "version": "3.12.10"
  }
 },
 "nbformat": 4,
 "nbformat_minor": 2
}
