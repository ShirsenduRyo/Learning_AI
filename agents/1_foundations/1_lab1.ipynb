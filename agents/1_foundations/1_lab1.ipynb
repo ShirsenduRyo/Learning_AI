{
 "cells": [
  {
   "cell_type": "markdown",
   "metadata": {},
   "source": [
    "# Welcome to the start of your adventure in Agentic AI"
   ]
  },
  {
   "cell_type": "markdown",
   "metadata": {},
   "source": [
    "<table style=\"margin: 0; text-align: left; width:100%\">\n",
    "    <tr>\n",
    "        <td style=\"width: 150px; height: 150px; vertical-align: middle;\">\n",
    "            <img src=\"../assets/stop.png\" width=\"150\" height=\"150\" style=\"display: block;\" />\n",
    "        </td>\n",
    "        <td>\n",
    "            <h2 style=\"color:#ff7800;\">Are you ready for action??</h2>\n",
    "            <span style=\"color:#ff7800;\">Have you completed all the setup steps in the <a href=\"../setup/\">setup</a> folder?<br/>\n",
    "            Have you checked out the guides in the <a href=\"../guides/01_intro.ipynb\">guides</a> folder?<br/>\n",
    "            Well in that case, you're ready!!\n",
    "            </span>\n",
    "        </td>\n",
    "    </tr>\n",
    "</table>"
   ]
  },
  {
   "cell_type": "markdown",
   "metadata": {},
   "source": [
    "<table style=\"margin: 0; text-align: left; width:100%\">\n",
    "    <tr>\n",
    "        <td style=\"width: 150px; height: 150px; vertical-align: middle;\">\n",
    "            <img src=\"../assets/tools.png\" width=\"150\" height=\"150\" style=\"display: block;\" />\n",
    "        </td>\n",
    "        <td>\n",
    "            <h2 style=\"color:#00bfff;\">Treat these labs as a resource</h2>\n",
    "            <span style=\"color:#00bfff;\">I push updates to the code regularly. When people ask questions or have problems, I incorporate it in the code, adding more examples or improved commentary. As a result, you'll notice that the code below isn't identical to the videos. Everything from the videos is here; but in addition, I've added more steps and better explanations. Consider this like an interactive book that accompanies the lectures.\n",
    "            </span>\n",
    "        </td>\n",
    "    </tr>\n",
    "</table>"
   ]
  },
  {
   "cell_type": "markdown",
   "metadata": {},
   "source": [
    "### And please do remember to contact me if I can help\n",
    "\n",
    "And I love to connect: https://www.linkedin.com/in/eddonner/\n",
    "\n",
    "\n",
    "### New to Notebooks like this one? Head over to the guides folder!\n",
    "\n",
    "Just to check you've already added the Python and Jupyter extensions to Cursor, if not already installed:\n",
    "- Open extensions (View >> extensions)\n",
    "- Search for python, and when the results show, click on the ms-python one, and Install it if not already installed\n",
    "- Search for jupyter, and when the results show, click on the Microsoft one, and Install it if not already installed  \n",
    "Then View >> Explorer to bring back the File Explorer.\n",
    "\n",
    "And then:\n",
    "1. Click where it says \"Select Kernel\" near the top right, and select the option called `.venv (Python 3.12.9)` or similar, which should be the first choice or the most prominent choice. You may need to choose \"Python Environments\" first.\n",
    "2. Click in each \"cell\" below, starting with the cell immediately below this text, and press Shift+Enter to run\n",
    "3. Enjoy!\n",
    "\n",
    "After you click \"Select Kernel\", if there is no option like `.venv (Python 3.12.9)` then please do the following:  \n",
    "1. From the Cursor menu, choose Settings >> VSCode Settings (NOTE: be sure to select `VSCode Settings` not `Cursor Settings`)  \n",
    "2. In the Settings search bar, type \"venv\"  \n",
    "3. In the field \"Path to folder with a list of Virtual Environments\" put the path to the project root, like C:\\Users\\username\\projects\\agents (on a Windows PC) or /Users/username/projects/agents (on Mac or Linux).  \n",
    "And then try again.\n",
    "\n",
    "Having problems with missing Python versions in that list? Have you ever used Anaconda before? It might be interferring. Quit Cursor, bring up a new command line, and make sure that your Anaconda environment is deactivated:    \n",
    "`conda deactivate`  \n",
    "And if you still have any problems with conda and python versions, it's possible that you will need to run this too:  \n",
    "`conda config --set auto_activate_base false`  \n",
    "and then from within the Agents directory, you should be able to run `uv python list` and see the Python 3.12 version."
   ]
  },
  {
   "cell_type": "markdown",
   "metadata": {},
   "source": [
    "# Imports"
   ]
  },
  {
   "cell_type": "code",
   "execution_count": 36,
   "metadata": {},
   "outputs": [],
   "source": [
    "# First let's do an import\n",
    "from dotenv import load_dotenv\n"
   ]
  },
  {
   "cell_type": "code",
   "execution_count": 37,
   "metadata": {},
   "outputs": [
    {
     "data": {
      "text/plain": [
       "True"
      ]
     },
     "execution_count": 37,
     "metadata": {},
     "output_type": "execute_result"
    }
   ],
   "source": [
    "# Next it's time to load the API keys into environment variables\n",
    "\n",
    "load_dotenv(override=True)"
   ]
  },
  {
   "cell_type": "code",
   "execution_count": 38,
   "metadata": {},
   "outputs": [
    {
     "name": "stdout",
     "output_type": "stream",
     "text": [
      "OpenAI API Key not set - please head to the troubleshooting guide in the guides folder\n"
     ]
    }
   ],
   "source": [
    "# Check the keys\n",
    "\n",
    "import os\n",
    "openai_api_key = os.getenv('OPENAI_API_KEY')\n",
    "\n",
    "if openai_api_key:\n",
    "    print(f\"OpenAI API Key exists and begins {openai_api_key[:8]}\")\n",
    "else:\n",
    "    print(\"OpenAI API Key not set - please head to the troubleshooting guide in the guides folder\")\n",
    "    \n"
   ]
  },
  {
   "cell_type": "code",
   "execution_count": 39,
   "metadata": {},
   "outputs": [
    {
     "name": "stderr",
     "output_type": "stream",
     "text": [
      "\u001b[?2026h\u001b[?25l\u001b[1Gpulling manifest ⠋ \u001b[K\u001b[?25h\u001b[?2026l\u001b[?2026h\u001b[?25l\u001b[1Gpulling manifest ⠙ \u001b[K\u001b[?25h\u001b[?2026l\u001b[?2026h\u001b[?25l\u001b[1Gpulling manifest ⠹ \u001b[K\u001b[?25h\u001b[?2026l\u001b[?2026h\u001b[?25l\u001b[1Gpulling manifest ⠸ \u001b[K\u001b[?25h\u001b[?2026l\u001b[?2026h\u001b[?25l\u001b[1Gpulling manifest ⠼ \u001b[K\u001b[?25h\u001b[?2026l\u001b[?2026h\u001b[?25l\u001b[1Gpulling manifest ⠴ \u001b[K\u001b[?25h\u001b[?2026l\u001b[?2026h\u001b[?25l\u001b[1Gpulling manifest ⠦ \u001b[K\u001b[?25h\u001b[?2026l\u001b[?2026h\u001b[?25l\u001b[1Gpulling manifest ⠧ \u001b[K\u001b[?25h\u001b[?2026l\u001b[?2026h\u001b[?25l\u001b[1Gpulling manifest ⠇ \u001b[K\u001b[?25h\u001b[?2026l\u001b[?2026h\u001b[?25l\u001b[1Gpulling manifest ⠏ \u001b[K\u001b[?25h\u001b[?2026l\u001b[?2026h\u001b[?25l\u001b[1Gpulling manifest ⠋ \u001b[K\u001b[?25h\u001b[?2026l\u001b[?2026h\u001b[?25l\u001b[1Gpulling manifest ⠙ \u001b[K\u001b[?25h\u001b[?2026l\u001b[?2026h\u001b[?25l\u001b[1Gpulling manifest ⠹ \u001b[K\u001b[?25h\u001b[?2026l\u001b[?2026h\u001b[?25l\u001b[1Gpulling manifest ⠸ \u001b[K\u001b[?25h\u001b[?2026l\u001b[?2026h\u001b[?25l\u001b[1Gpulling manifest ⠼ \u001b[K\u001b[?25h\u001b[?2026l\u001b[?2026h\u001b[?25l\u001b[1Gpulling manifest ⠴ \u001b[K\u001b[?25h\u001b[?2026l\u001b[?2026h\u001b[?25l\u001b[1Gpulling manifest \u001b[K\n",
      "pulling dde5aa3fc5ff: 100% ▕██████████████████▏ 2.0 GB                         \u001b[K\n",
      "pulling 966de95ca8a6: 100% ▕██████████████████▏ 1.4 KB                         \u001b[K\n",
      "pulling fcc5a6bec9da: 100% ▕██████████████████▏ 7.7 KB                         \u001b[K\n",
      "pulling a70ff7e570d9: 100% ▕██████████████████▏ 6.0 KB                         \u001b[K\n",
      "pulling 56bb8bd477a5: 100% ▕██████████████████▏   96 B                         \u001b[K\n",
      "pulling 34bb5ab01051: 100% ▕██████████████████▏  561 B                         \u001b[K\n",
      "verifying sha256 digest \u001b[K\n",
      "writing manifest \u001b[K\n",
      "success \u001b[K\u001b[?25h\u001b[?2026l\n"
     ]
    }
   ],
   "source": [
    "# And now - the all important import statement\n",
    "# If you get an import error - head over to troubleshooting guide\n",
    "!ollama pull llama3.2:3b\n",
    "\n",
    "from openai import OpenAI"
   ]
  },
  {
   "cell_type": "code",
   "execution_count": 40,
   "metadata": {},
   "outputs": [],
   "source": [
    "# And now we'll create an instance of the OpenAI class\n",
    "# If you're not sure what it means to create an instance of a class - head over to the guides folder!\n",
    "# If you get a NameError - head over to the guides folder to learn about NameErrors\n",
    "\n",
    "MODEL = \"llama3.2:3b\"\n",
    "openai = OpenAI(base_url=\"http://localhost:11434/v1\", api_key=\"ollama\")"
   ]
  },
  {
   "cell_type": "markdown",
   "metadata": {},
   "source": [
    "# Message 1"
   ]
  },
  {
   "cell_type": "code",
   "execution_count": 41,
   "metadata": {},
   "outputs": [],
   "source": [
    "# Create a list of messages in the familiar OpenAI format\n",
    "\n",
    "messages = [{\"role\": \"user\", \"content\": \"What is 2+2?\"}]"
   ]
  },
  {
   "cell_type": "code",
   "execution_count": 42,
   "metadata": {},
   "outputs": [
    {
     "name": "stdout",
     "output_type": "stream",
     "text": [
      "The answer to 2 + 2 is 4.\n"
     ]
    }
   ],
   "source": [
    "# And now call it! Any problems, head to the troubleshooting guide\n",
    "\n",
    "response = openai.chat.completions.create(\n",
    "    model=MODEL,\n",
    "    messages=messages\n",
    ")\n",
    "\n",
    "print(response.choices[0].message.content)\n"
   ]
  },
  {
   "cell_type": "markdown",
   "metadata": {},
   "source": [
    "# Message 2"
   ]
  },
  {
   "cell_type": "markdown",
   "metadata": {},
   "source": [
    "## Question"
   ]
  },
  {
   "cell_type": "code",
   "execution_count": 43,
   "metadata": {},
   "outputs": [],
   "source": [
    "# And now - let's ask for a question:\n",
    "\n",
    "question = \"Please propose a hard, challenging question to assess someone's IQ. Respond only with the question.\"\n",
    "messages = [{\"role\": \"user\", \"content\": question}]\n"
   ]
  },
  {
   "cell_type": "code",
   "execution_count": 44,
   "metadata": {},
   "outputs": [
    {
     "name": "stdout",
     "output_type": "stream",
     "text": [
      "What is the minimum number of halos in a set of circular mirrors that are arranged around a cube, forming six equilateral triangles where each triangle surrounds a corner of the cube, without any two triangles sharing an edge?\n"
     ]
    }
   ],
   "source": [
    "# ask it\n",
    "response = openai.chat.completions.create(\n",
    "    model=MODEL,\n",
    "    messages=messages\n",
    ")\n",
    "\n",
    "question = response.choices[0].message.content\n",
    "\n",
    "print(question)\n"
   ]
  },
  {
   "cell_type": "code",
   "execution_count": 45,
   "metadata": {},
   "outputs": [],
   "source": [
    "# form a new messages list\n",
    "messages = [{\"role\": \"user\", \"content\": question}]\n"
   ]
  },
  {
   "cell_type": "markdown",
   "metadata": {},
   "source": [
    "## Agentic Answer"
   ]
  },
  {
   "cell_type": "code",
   "execution_count": 46,
   "metadata": {},
   "outputs": [
    {
     "name": "stdout",
     "output_type": "stream",
     "text": [
      "In this configuration, if we denote the total number of \"hopes\" as h and \"halos\" as x, then:\n",
      "\n",
      "$$ \\sum_{i} 8x_i \\leq2x+\\sum_{i} h_i = 12x $$\n",
      "The minimum solution is (a, b) = (1,8), where a represents the smallest possible value for one type of halo and b represents eight multiples of the remaining type.\n"
     ]
    }
   ],
   "source": [
    "# Ask it again\n",
    "\n",
    "response = openai.chat.completions.create(\n",
    "    model= MODEL,\n",
    "    messages=messages\n",
    ")\n",
    "\n",
    "answer = response.choices[0].message.content\n",
    "print(answer)\n"
   ]
  },
  {
   "cell_type": "code",
   "execution_count": 47,
   "metadata": {},
   "outputs": [
    {
     "data": {
      "text/markdown": [
       "In this configuration, if we denote the total number of \"hopes\" as h and \"halos\" as x, then:\n",
       "\n",
       "$$ \\sum_{i} 8x_i \\leq2x+\\sum_{i} h_i = 12x $$\n",
       "The minimum solution is (a, b) = (1,8), where a represents the smallest possible value for one type of halo and b represents eight multiples of the remaining type."
      ],
      "text/plain": [
       "<IPython.core.display.Markdown object>"
      ]
     },
     "metadata": {},
     "output_type": "display_data"
    }
   ],
   "source": [
    "from IPython.display import Markdown, display\n",
    "\n",
    "display(Markdown(answer))\n",
    "\n"
   ]
  },
  {
   "cell_type": "markdown",
   "metadata": {},
   "source": [
    "# Congratulations!\n",
    "\n",
    "That was a small, simple step in the direction of Agentic AI, with your new environment!\n",
    "\n",
    "Next time things get more interesting..."
   ]
  },
  {
   "cell_type": "markdown",
   "metadata": {},
   "source": [
    "<table style=\"margin: 0; text-align: left; width:100%\">\n",
    "    <tr>\n",
    "        <td style=\"width: 150px; height: 150px; vertical-align: middle;\">\n",
    "            <img src=\"../assets/exercise.png\" width=\"150\" height=\"150\" style=\"display: block;\" />\n",
    "        </td>\n",
    "        <td>\n",
    "            <h1 style=\"color:#ff7800;\">Exercise</h1>\n",
    "            <span style=\"color:#ff7800;\">Now try this commercial application:<br/>\n",
    "            First ask the LLM to pick a business area that might be worth exploring for an Agentic AI opportunity.<br/>\n",
    "            Then ask the LLM to present a pain-point in that industry - something challenging that might be ripe for an Agentic solution.<br/>\n",
    "            Finally have 3 third LLM call propose the Agentic AI solution.\n",
    "            </span>\n",
    "        </td>\n",
    "    </tr>\n",
    "</table>"
   ]
  },
  {
   "cell_type": "markdown",
   "metadata": {},
   "source": [
    "## Business Idea"
   ]
  },
  {
   "cell_type": "code",
   "execution_count": 48,
   "metadata": {},
   "outputs": [
    {
     "data": {
      "text/markdown": [
       "I'd like to suggest an agentic AI opportunity in the field of **Sustainable Supply Chain Management**.\n",
       "\n",
       "With agentic AI, companies can create autonomous systems that can optimize their supply chain operations, making them more efficient, resilient, and environmentally friendly. Here's a potential concept:\n",
       "\n",
       "**Opportunity:** Develop an agentic AI system that enables a company to automatically adjust its production schedules, inventory levels, and logistics routes in real-time, based on changing market conditions, weather patterns, and sustainability goals.\n",
       "\n",
       "**Key Challenges:**\n",
       "\n",
       "1. **Predictive Maintenance**: Develop a system that can predict equipment failures, optimize maintenance schedules, and reduce downtime.\n",
       "2. **Route Optimization**: Create an algorithm that can analyze traffic patterns, road conditions, and fuel prices to find the most efficient routes for transportation and logistics.\n",
       "3. **Sustainable Inventory Management**: Implement an AI-powered inventory management system that takes into account product demand, seasonal fluctuations, and supply chain disruptions to minimize waste and optimize inventory levels.\n",
       "\n",
       "**Agentic AI Role:**\n",
       "\n",
       "The agentic AI system would be designed to learn from historical data, adapt to changing situations, and make autonomous decisions based on a set of predefined goals and objectives. The system would:\n",
       "\n",
       "1. Monitor market trends and weather patterns\n",
       "2. Adjust production schedules in real-time to accommodate changes in demand\n",
       "3. Optimize logistics routes to reduce transportation costs and emissions\n",
       "4. Autonomously manage inventory levels to minimize waste and optimize storage space\n",
       "\n",
       "**Goals:**\n",
       "\n",
       "The ultimate goal of an agentic AI system in sustainable supply chain management would be to:\n",
       "\n",
       "1. Reduce greenhouse gas emissions by 20%\n",
       "2. Increase supply chain efficiency by 30%\n",
       "3. Decrease transportation costs by 25%\n",
       "\n",
       "By exploring this opportunity, companies can unlock significant benefits from using agentic AI in their supply chain operations, including improved sustainability and efficiency.\n",
       "\n",
       "What do you think? Would you like to explore this idea further?"
      ],
      "text/plain": [
       "<IPython.core.display.Markdown object>"
      ]
     },
     "metadata": {},
     "output_type": "display_data"
    }
   ],
   "source": [
    "# First create the messages:\n",
    "question = \"Pick a business area that might be worth exploring for an Agentic AI opportunity\"\n",
    "messages = [{\"role\": \"user\", \"content\": question}]\n",
    "\n",
    "# Then make the first call:\n",
    "response = openai.chat.completions.create(\n",
    "    model=MODEL,\n",
    "    messages=messages\n",
    ")\n",
    "\n",
    "# Then read the business idea:\n",
    "business_idea = response.choices[0].message.content\n",
    "display(Markdown(business_idea))\n"
   ]
  },
  {
   "cell_type": "markdown",
   "metadata": {},
   "source": [
    "## Pain Point"
   ]
  },
  {
   "cell_type": "code",
   "execution_count": 49,
   "metadata": {},
   "outputs": [
    {
     "data": {
      "text/markdown": [
       "One major pain point associated with the sustainable supply chain management business idea I mentioned earlier is:\n",
       "\n",
       "**Data Quality and Integration**\n",
       "\n",
       "For agentic AI systems to be effective, they require high-quality, diverse, and relevant data. However, in many supply chain operations, data quality, consistency, and availability can be significant challenges.\n",
       "\n",
       "Some specific pain points related to data quality include:\n",
       "\n",
       "1. **Lack of visibility**: Supply chain teams often lack a unified view of all the data sources, making it difficult to track inventory, shipments, and customer interactions.\n",
       "2. **Inconsistent data formatting**: Different systems, software, or departments may use different formats for data exchange, leading to errors, duplications, or losses of critical information.\n",
       "3. **Insufficient sensor data**: Many companies rely on manual entry or estimates for certain types of data (e.g., energy consumption, shipping conditions), which can lead to inaccurate inputs for the AI system.\n",
       "4. **Information silos**: Companies often have difficulty sharing data across departments, teams, or partners, causing a lack of collaboration and coordination.\n",
       "\n",
       "To address these challenges, it would be necessary to:\n",
       "\n",
       "1. **Develop standardized data interfaces**: Implement common languages, APIs, or frameworks to facilitate seamless data exchange between systems.\n",
       "2. **Invest in data quality management**: Create robust processes for monitoring and ensuring the accuracy, relevance, and completeness of data across all sources and channels.\n",
       "3. **Implement machine learning-powered data analytics**: Utilize agentic AI techniques to identify gaps, discrepancies, and trends in the data pipeline.\n",
       "\n",
       "By focusing on improving data quality and integration, supply chain professionals can unlock the full potential of their agentic AI systems and transform their operations into more efficient, responsive, and sustainable businesses."
      ],
      "text/plain": [
       "<IPython.core.display.Markdown object>"
      ]
     },
     "metadata": {},
     "output_type": "display_data"
    }
   ],
   "source": [
    "## Agentic Answer\n",
    "messages = [{\"role\": \"assistant\", \"content\": business_idea}]\n",
    "messages.append({\"role\": \"user\", \"content\": \"What is a major pain point in that business idea?\"})\n",
    "response = openai.chat.completions.create(model=MODEL, messages=messages)\n",
    "pain_point = response.choices[0].message.content.strip()\n",
    "display(Markdown(pain_point))"
   ]
  },
  {
   "cell_type": "markdown",
   "metadata": {},
   "source": [
    "## Solution "
   ]
  },
  {
   "cell_type": "code",
   "execution_count": 50,
   "metadata": {},
   "outputs": [
    {
     "data": {
      "text/markdown": [
       "**Solution: \"Data Nexus\" - A Collaborative IoT-Powered Data Platform**\n",
       "\n",
       "To address the data quality and integration challenges, we propose a comprehensive, multi-faceted solution: Data Nexus. This initiative leverages IoT sensor technologies, AI-driven analytics, and a collaborative platform to create a unified, real-time view of supply chain operations.\n",
       "\n",
       "**Key Components:**\n",
       "\n",
       "1. **IoT Sensor Network**: Install a network of sensors at strategic locations across the supply chain (e.g., warehouses, manufacturing facilities, transportation hubs). These sensors will collect relevant data on inventory levels, shipments, energy consumption, and other critical metrics.\n",
       "2. **Data Nexus Platform**: Develop a cloud-based platform that aggregates data from various sources, including ERP systems, CRM tools, and IoT sensors. The platform will utilize AI-driven analytics to identify trends, patterns, and insights in real-time.\n",
       "3. **Collaborative Data Sharing**: Implement a secure, user-friendly interface for authorized personnel to access and share data across departments, teams, or partners. This ensures seamless communication and coordination throughout the supply chain.\n",
       "4. **Data Quality and Integrity**: Establish robust data quality management processes, including data validation, normalization, and cleansing. Implement automated checks to detect anomalies, errors, or inconsistencies, ensuring high data accuracy and reliability.\n",
       "5. **AI-Driven Insights and Recommendations**: Leverage agentic AI capabilities to analyze data from the platform and provide actionable insights and recommendations for supply chain optimization.\n",
       "\n",
       "**Data Nexus Features:**\n",
       "\n",
       "1. **Real-time Visibility**: Supply chain teams will have access to a unified, real-time view of all operations, enabling prompt decision-making.\n",
       "2. **Automated Predictive Analytics**: AI-driven analytics will identify potential issues before they occur, allowing for proactive mitigation strategies.\n",
       "3. **Collaborative Data Sharing**: Authorized personnel can share data and work together effectively across the supply chain.\n",
       "4. **Data Quality Guarantee**: Robust data quality management ensures high accuracy and reliability of data inputs.\n",
       "\n",
       "**Benefits:**\n",
       "\n",
       "1. **Improved Supply Chain Efficiency**: Streamlined operations, reduced lead times, and enhanced customer satisfaction.\n",
       "2. **Increased Transparency and Trust**: Real-time visibility and collaborative data sharing foster trust among stakeholders.\n",
       "3. **Data-Driven Decision Making**: AI-driven insights and recommendations empower informed decision-making strategies.\n",
       "4. **Enhanced Inventory Management**: Accurate inventory levels and real-time tracking enable optimized inventory management.\n",
       "\n",
       "**Implementation Roadmap:**\n",
       "\n",
       "1. **Phase 1 (0-6 weeks)**: Install IoT sensors and set up Data Nexus Platform infrastructure.\n",
       "2. **Phase 2 (6-12 weeks)**: Implement collaborative data sharing and data quality management processes.\n",
       "3. **Phase 3 (12-24 weeks)**: Introduce AI-driven analytics and predictive modeling capabilities.\n",
       "\n",
       "By adopting the \"Data Nexus\" solution, supply chain professionals will enjoy improved efficiency, enhanced transparency, and actionable insights to drive informed decision making."
      ],
      "text/plain": [
       "<IPython.core.display.Markdown object>"
      ]
     },
     "metadata": {},
     "output_type": "display_data"
    }
   ],
   "source": [
    "messages = [{\"role\": \"assistant\", \"content\": pain_point}]\n",
    "messages.append({\"role\": \"user\", \"content\": \"Propose a creative and effective solution to the above pain point.\"})\n",
    "response = openai.chat.completions.create(model=MODEL, messages=messages)\n",
    "solution = response.choices[0].message.content.strip()\n",
    "display(Markdown(solution))"
   ]
  },
  {
   "cell_type": "code",
   "execution_count": null,
   "metadata": {},
   "outputs": [],
   "source": []
  }
 ],
 "metadata": {
  "kernelspec": {
   "display_name": ".venv",
   "language": "python",
   "name": "python3"
  },
  "language_info": {
   "codemirror_mode": {
    "name": "ipython",
    "version": 3
   },
   "file_extension": ".py",
   "mimetype": "text/x-python",
   "name": "python",
   "nbconvert_exporter": "python",
   "pygments_lexer": "ipython3",
   "version": "3.12.10"
  }
 },
 "nbformat": 4,
 "nbformat_minor": 2
}
